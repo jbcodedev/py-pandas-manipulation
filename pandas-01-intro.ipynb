{
 "cells": [
  {
   "cell_type": "markdown",
   "metadata": {},
   "source": [
    "# <font color=green> **Pandas - Transformación y manipulación de datos**"
   ]
  },
  {
   "cell_type": "markdown",
   "metadata": {},
   "source": [
    "<font color=green> **Problema de Negocio**"
   ]
  },
  {
   "cell_type": "markdown",
   "metadata": {},
   "source": [
    "Se trata de un algoritmo capaz de analizar las caracteristicas de una propiedad como comodidades, tamaño, ocupación del espacio en un periodo determinado y sugerir al anfitrión un precio a cobrar por tarifas diarias que garantice ganancias en momentos de alta demanda."
   ]
  },
  {
   "cell_type": "markdown",
   "metadata": {},
   "source": [
    "## <font color=green> **01 - Conociendo el problema**"
   ]
  }
 ],
 "metadata": {
  "kernelspec": {
   "display_name": "env",
   "language": "python",
   "name": "python3"
  },
  "language_info": {
   "name": "python",
   "version": "3.13.0"
  }
 },
 "nbformat": 4,
 "nbformat_minor": 2
}
